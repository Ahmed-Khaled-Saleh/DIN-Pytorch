{
 "cells": [
  {
   "cell_type": "code",
   "execution_count": 9,
   "metadata": {},
   "outputs": [],
   "source": [
    "import torch\n",
    "import torch.nn as nn\n",
    "import torch.autograd.functional as F\n",
    "\n",
    "def hessian_by_hand(loader, model,criterion, LAMBDA):\n",
    "    hessian = []\n",
    "    for i, (data, target) in enumerate(loader):\n",
    "        def loss_fn(y_hat):\n",
    "            target[target == -1] = 0\n",
    "            loss = criterion(y_hat, target.to(torch.float32))\n",
    "            return loss + LAMBDA * torch.norm(model.linear.weight, p=2)**2  # L2 regularization term\n",
    "\n",
    "        import pdb; pdb.set_trace()\n",
    "        data = data.view(data.size(0), -1)\n",
    "        y_hat = model(data)\n",
    "        hessian += F.hessian(loss_fn, y_hat)\n",
    "    return hessian\n",
    "\n",
    "\n"
   ]
  },
  {
   "cell_type": "code",
   "execution_count": null,
   "metadata": {},
   "outputs": [],
   "source": [
    "from data import A9ADataset, ClientDataset\n",
    "from torch.utils.data import DataLoader\n",
    "criterion = torch.nn.BCELoss()\n",
    "dataset = A9ADataset('data/LibSVM/a9a/a9a')\n",
    "loaded_data = DataLoader(dataset, batch_size=32 ,shuffle=True, drop_last=True)\n",
    "from model import LogisticRegression\n",
    "model = LogisticRegression(123, 1)\n",
    "hessian_by_hand(loaded_data, model, criterion, 1e-3)\n"
   ]
  },
  {
   "cell_type": "code",
   "execution_count": 1,
   "metadata": {},
   "outputs": [],
   "source": [
    "import re\n",
    "\n",
    "def writeFile(inputfile, outpufile, instances):\n",
    "  wf = open(outpufile, 'w')\n",
    "\n",
    "  values = [0.0] * (instances + 1)\n",
    "  with open(inputfile) as rf:\n",
    "    for line in rf:\n",
    "      matches = re.findall('(\\d+):(\\d+)', line, re.DOTALL)\n",
    "      values[-1] = 0 if line[0] == '-' else 1\n",
    "\n",
    "      for index, value in matches:\n",
    "        values[int(index) - 1] = float(value)\n",
    "\n",
    "      wf.write(','.join(map(str, values)) + '\\n')\n",
    "      values = [0.0] * (instances + 1)\n",
    "  wf.close()\n",
    "\n",
    "writeFile('data/LibSVM/a9a/a9a', 'data/LibSVM/a9a/a9a.csv', 123)\n",
    "\n"
   ]
  },
  {
   "cell_type": "code",
   "execution_count": 3,
   "metadata": {},
   "outputs": [],
   "source": [
    "import pandas as pd\n",
    "df = pd.read_csv('data/LibSVM/a9a/a9a.csv')\n"
   ]
  },
  {
   "cell_type": "code",
   "execution_count": 4,
   "metadata": {},
   "outputs": [
    {
     "data": {
      "text/html": [
       "<div>\n",
       "<style scoped>\n",
       "    .dataframe tbody tr th:only-of-type {\n",
       "        vertical-align: middle;\n",
       "    }\n",
       "\n",
       "    .dataframe tbody tr th {\n",
       "        vertical-align: top;\n",
       "    }\n",
       "\n",
       "    .dataframe thead th {\n",
       "        text-align: right;\n",
       "    }\n",
       "</style>\n",
       "<table border=\"1\" class=\"dataframe\">\n",
       "  <thead>\n",
       "    <tr style=\"text-align: right;\">\n",
       "      <th></th>\n",
       "      <th>0.0</th>\n",
       "      <th>0.0.1</th>\n",
       "      <th>1.0</th>\n",
       "      <th>0.0.2</th>\n",
       "      <th>0.0.3</th>\n",
       "      <th>0.0.4</th>\n",
       "      <th>0.0.5</th>\n",
       "      <th>0.0.6</th>\n",
       "      <th>0.0.7</th>\n",
       "      <th>0.0.8</th>\n",
       "      <th>...</th>\n",
       "      <th>0.0.100</th>\n",
       "      <th>0.0.101</th>\n",
       "      <th>0.0.102</th>\n",
       "      <th>0.0.103</th>\n",
       "      <th>0.0.104</th>\n",
       "      <th>0.0.105</th>\n",
       "      <th>0.0.106</th>\n",
       "      <th>0.0.107</th>\n",
       "      <th>0.0.108</th>\n",
       "      <th>0</th>\n",
       "    </tr>\n",
       "  </thead>\n",
       "  <tbody>\n",
       "    <tr>\n",
       "      <th>0</th>\n",
       "      <td>0.0</td>\n",
       "      <td>0.0</td>\n",
       "      <td>0.0</td>\n",
       "      <td>0.0</td>\n",
       "      <td>1.0</td>\n",
       "      <td>0.0</td>\n",
       "      <td>1.0</td>\n",
       "      <td>0.0</td>\n",
       "      <td>0.0</td>\n",
       "      <td>0.0</td>\n",
       "      <td>...</td>\n",
       "      <td>0.0</td>\n",
       "      <td>0.0</td>\n",
       "      <td>0.0</td>\n",
       "      <td>0.0</td>\n",
       "      <td>0.0</td>\n",
       "      <td>0.0</td>\n",
       "      <td>0.0</td>\n",
       "      <td>0.0</td>\n",
       "      <td>0.0</td>\n",
       "      <td>0</td>\n",
       "    </tr>\n",
       "    <tr>\n",
       "      <th>1</th>\n",
       "      <td>0.0</td>\n",
       "      <td>0.0</td>\n",
       "      <td>1.0</td>\n",
       "      <td>0.0</td>\n",
       "      <td>0.0</td>\n",
       "      <td>1.0</td>\n",
       "      <td>0.0</td>\n",
       "      <td>0.0</td>\n",
       "      <td>0.0</td>\n",
       "      <td>0.0</td>\n",
       "      <td>...</td>\n",
       "      <td>0.0</td>\n",
       "      <td>0.0</td>\n",
       "      <td>0.0</td>\n",
       "      <td>0.0</td>\n",
       "      <td>0.0</td>\n",
       "      <td>0.0</td>\n",
       "      <td>0.0</td>\n",
       "      <td>0.0</td>\n",
       "      <td>0.0</td>\n",
       "      <td>0</td>\n",
       "    </tr>\n",
       "    <tr>\n",
       "      <th>2</th>\n",
       "      <td>0.0</td>\n",
       "      <td>0.0</td>\n",
       "      <td>0.0</td>\n",
       "      <td>0.0</td>\n",
       "      <td>1.0</td>\n",
       "      <td>1.0</td>\n",
       "      <td>0.0</td>\n",
       "      <td>0.0</td>\n",
       "      <td>0.0</td>\n",
       "      <td>0.0</td>\n",
       "      <td>...</td>\n",
       "      <td>0.0</td>\n",
       "      <td>0.0</td>\n",
       "      <td>0.0</td>\n",
       "      <td>0.0</td>\n",
       "      <td>0.0</td>\n",
       "      <td>0.0</td>\n",
       "      <td>0.0</td>\n",
       "      <td>0.0</td>\n",
       "      <td>0.0</td>\n",
       "      <td>0</td>\n",
       "    </tr>\n",
       "    <tr>\n",
       "      <th>3</th>\n",
       "      <td>0.0</td>\n",
       "      <td>1.0</td>\n",
       "      <td>0.0</td>\n",
       "      <td>0.0</td>\n",
       "      <td>0.0</td>\n",
       "      <td>1.0</td>\n",
       "      <td>0.0</td>\n",
       "      <td>0.0</td>\n",
       "      <td>0.0</td>\n",
       "      <td>0.0</td>\n",
       "      <td>...</td>\n",
       "      <td>0.0</td>\n",
       "      <td>0.0</td>\n",
       "      <td>0.0</td>\n",
       "      <td>0.0</td>\n",
       "      <td>0.0</td>\n",
       "      <td>0.0</td>\n",
       "      <td>0.0</td>\n",
       "      <td>0.0</td>\n",
       "      <td>0.0</td>\n",
       "      <td>0</td>\n",
       "    </tr>\n",
       "    <tr>\n",
       "      <th>4</th>\n",
       "      <td>0.0</td>\n",
       "      <td>0.0</td>\n",
       "      <td>1.0</td>\n",
       "      <td>0.0</td>\n",
       "      <td>0.0</td>\n",
       "      <td>1.0</td>\n",
       "      <td>0.0</td>\n",
       "      <td>0.0</td>\n",
       "      <td>0.0</td>\n",
       "      <td>0.0</td>\n",
       "      <td>...</td>\n",
       "      <td>0.0</td>\n",
       "      <td>0.0</td>\n",
       "      <td>0.0</td>\n",
       "      <td>0.0</td>\n",
       "      <td>0.0</td>\n",
       "      <td>0.0</td>\n",
       "      <td>0.0</td>\n",
       "      <td>0.0</td>\n",
       "      <td>0.0</td>\n",
       "      <td>0</td>\n",
       "    </tr>\n",
       "  </tbody>\n",
       "</table>\n",
       "<p>5 rows × 124 columns</p>\n",
       "</div>"
      ],
      "text/plain": [
       "   0.0  0.0.1  1.0  0.0.2  0.0.3  0.0.4  0.0.5  0.0.6  0.0.7  0.0.8  ...  \\\n",
       "0  0.0    0.0  0.0    0.0    1.0    0.0    1.0    0.0    0.0    0.0  ...   \n",
       "1  0.0    0.0  1.0    0.0    0.0    1.0    0.0    0.0    0.0    0.0  ...   \n",
       "2  0.0    0.0  0.0    0.0    1.0    1.0    0.0    0.0    0.0    0.0  ...   \n",
       "3  0.0    1.0  0.0    0.0    0.0    1.0    0.0    0.0    0.0    0.0  ...   \n",
       "4  0.0    0.0  1.0    0.0    0.0    1.0    0.0    0.0    0.0    0.0  ...   \n",
       "\n",
       "   0.0.100  0.0.101  0.0.102  0.0.103  0.0.104  0.0.105  0.0.106  0.0.107  \\\n",
       "0      0.0      0.0      0.0      0.0      0.0      0.0      0.0      0.0   \n",
       "1      0.0      0.0      0.0      0.0      0.0      0.0      0.0      0.0   \n",
       "2      0.0      0.0      0.0      0.0      0.0      0.0      0.0      0.0   \n",
       "3      0.0      0.0      0.0      0.0      0.0      0.0      0.0      0.0   \n",
       "4      0.0      0.0      0.0      0.0      0.0      0.0      0.0      0.0   \n",
       "\n",
       "   0.0.108  0  \n",
       "0      0.0  0  \n",
       "1      0.0  0  \n",
       "2      0.0  0  \n",
       "3      0.0  0  \n",
       "4      0.0  0  \n",
       "\n",
       "[5 rows x 124 columns]"
      ]
     },
     "execution_count": 4,
     "metadata": {},
     "output_type": "execute_result"
    }
   ],
   "source": [
    "df.head()\n"
   ]
  },
  {
   "cell_type": "code",
   "execution_count": null,
   "metadata": {},
   "outputs": [],
   "source": [
    "!pip install git+https://github.com/fkunstner/dataset-downloader.git"
   ]
  },
  {
   "cell_type": "code",
   "execution_count": 6,
   "metadata": {},
   "outputs": [
    {
     "name": "stdout",
     "output_type": "stream",
     "text": [
      "    Downloading https://www.csie.ntu.edu.tw/~cjlin/libsvmtools/datasets/binary/a9a to /home/ahmed/data/dsdl/a9a/a9a\n",
      "    Extracting /home/ahmed/data/dsdl/a9a/a9a to /home/ahmed/data/dsdl/a9a\n",
      "    - Nothing to extract in /home/ahmed/data/dsdl/a9a/a9a\n",
      "    Downloading https://www.csie.ntu.edu.tw/~cjlin/libsvmtools/datasets/binary/a9a.t to /home/ahmed/data/dsdl/a9a/a9a.t\n",
      "    Extracting /home/ahmed/data/dsdl/a9a/a9a.t to /home/ahmed/data/dsdl/a9a\n",
      "    - Nothing to extract in /home/ahmed/data/dsdl/a9a/a9a.t\n"
     ]
    }
   ],
   "source": [
    "import dsdl\n",
    "\n",
    "ds = dsdl.load(\"a9a\")"
   ]
  },
  {
   "cell_type": "code",
   "execution_count": 7,
   "metadata": {},
   "outputs": [],
   "source": [
    "X, y = ds.get_train()"
   ]
  },
  {
   "cell_type": "code",
   "execution_count": 8,
   "metadata": {},
   "outputs": [
    {
     "name": "stdout",
     "output_type": "stream",
     "text": [
      "(32561, 123) (32561,)\n"
     ]
    }
   ],
   "source": [
    "print(X.shape, y.shape)"
   ]
  },
  {
   "cell_type": "code",
   "execution_count": 12,
   "metadata": {},
   "outputs": [],
   "source": [
    "X_train = X.toarray()"
   ]
  },
  {
   "cell_type": "code",
   "execution_count": 15,
   "metadata": {},
   "outputs": [
    {
     "data": {
      "text/plain": [
       "array([0., 1.])"
      ]
     },
     "execution_count": 15,
     "metadata": {},
     "output_type": "execute_result"
    }
   ],
   "source": [
    "import numpy as np\n",
    "np.unique(X_train)"
   ]
  },
  {
   "cell_type": "code",
   "execution_count": null,
   "metadata": {},
   "outputs": [],
   "source": []
  }
 ],
 "metadata": {
  "kernelspec": {
   "display_name": "base",
   "language": "python",
   "name": "python3"
  },
  "language_info": {
   "codemirror_mode": {
    "name": "ipython",
    "version": 3
   },
   "file_extension": ".py",
   "mimetype": "text/x-python",
   "name": "python",
   "nbconvert_exporter": "python",
   "pygments_lexer": "ipython3",
   "version": "3.9.12"
  },
  "orig_nbformat": 4
 },
 "nbformat": 4,
 "nbformat_minor": 2
}
